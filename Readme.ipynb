{
 "cells": [
  {
   "cell_type": "markdown",
   "id": "70e2423e-4ac6-40c0-9321-f8bd101ff077",
   "metadata": {},
   "source": [
    "Setup MLFlow within Kubenetes Cluster"
   ]
  },
  {
   "cell_type": "code",
   "execution_count": null,
   "id": "9b28161a-ae24-4971-a51d-1a1e6f7db408",
   "metadata": {},
   "outputs": [],
   "source": [
    "1, deployment backend database service, such as Postgres\n",
    " user/pwd as: admin/admin"
   ]
  },
  {
   "cell_type": "code",
   "execution_count": null,
   "id": "db967060-f9ad-40d7-9d85-9827ec6045c8",
   "metadata": {},
   "outputs": [],
   "source": [
    "2, create shared volumn for model runs\n",
    "/home/shared/mlruns"
   ]
  },
  {
   "cell_type": "code",
   "execution_count": null,
   "id": "7c70f627-31b3-4a65-a454-c42041ab0ddb",
   "metadata": {},
   "outputs": [],
   "source": [
    "3, deploy MLFlow model registory service with UI and basic auth enabled"
   ]
  },
  {
   "cell_type": "code",
   "execution_count": null,
   "id": "bc6ef57c-0a39-4d2f-933e-17aea31483f9",
   "metadata": {},
   "outputs": [],
   "source": [
    "4, create nginx ingress for MLFlow service "
   ]
  }
 ],
 "metadata": {
  "kernelspec": {
   "display_name": "Python 3 (ipykernel)",
   "language": "python",
   "name": "python3"
  },
  "language_info": {
   "codemirror_mode": {
    "name": "ipython",
    "version": 3
   },
   "file_extension": ".py",
   "mimetype": "text/x-python",
   "name": "python",
   "nbconvert_exporter": "python",
   "pygments_lexer": "ipython3",
   "version": "3.9.13"
  }
 },
 "nbformat": 4,
 "nbformat_minor": 5
}
