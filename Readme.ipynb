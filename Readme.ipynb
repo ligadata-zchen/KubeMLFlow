{
 "cells": [
  {
   "cell_type": "markdown",
   "id": "70e2423e-4ac6-40c0-9321-f8bd101ff077",
   "metadata": {},
   "source": [
    "### Setup MLFlow within Kubenetes Cluster\n",
    "author: zilinchen@yahoo.com\n",
    "@2024.12"
   ]
  },
  {
   "cell_type": "code",
   "execution_count": null,
   "id": "ab326a5d-4774-4fcc-bbc8-d8868340fa07",
   "metadata": {},
   "outputs": [],
   "source": [
    "## pre-requests\n",
    "\n",
    "#0.1, build docker image with basic auth \n",
    "docker build . -f Dockerfile.mlflow -t rnctech/mlmodel:mlflow\n",
    "docker push rnctech/mlmodel:mlflow"
   ]
  },
  {
   "cell_type": "code",
   "execution_count": null,
   "id": "9b28161a-ae24-4971-a51d-1a1e6f7db408",
   "metadata": {},
   "outputs": [],
   "source": [
    "#0.2, deployment backend database service, such as Postgres\n",
    "kubectl apply -f postgres.yaml\n",
    " user/pwd as: admin/admin"
   ]
  },
  {
   "cell_type": "code",
   "execution_count": null,
   "id": "4aeb880c-50ea-4dd1-914a-0ff271225a6e",
   "metadata": {},
   "outputs": [],
   "source": [
    "#0.3, create 2 dabases: mlflow and mlauth\n",
    "\n",
    "create database mlauth;\n",
    "\\c mlauth;\n",
    "ALTER SCHEMA public OWNER to admin;\n",
    "\n",
    "\n",
    "--same as mlflow databse"
   ]
  },
  {
   "cell_type": "code",
   "execution_count": null,
   "id": "99e4655b-cbac-4785-b581-171195daaf6c",
   "metadata": {},
   "outputs": [],
   "source": [
    "## deploy kubenetes service"
   ]
  },
  {
   "cell_type": "code",
   "execution_count": null,
   "id": "db967060-f9ad-40d7-9d85-9827ec6045c8",
   "metadata": {},
   "outputs": [],
   "source": [
    "1, create shared volumn (PV/PVC) for ARTIFACT_STORE of ml model runs\n",
    "/home/shared/mlruns"
   ]
  },
  {
   "cell_type": "code",
   "execution_count": null,
   "id": "a31f53b4-0985-4550-a6d0-40af9116bc9e",
   "metadata": {},
   "outputs": [],
   "source": [
    "2, deploy secret for image pulling, such as:  regcre"
   ]
  },
  {
   "cell_type": "code",
   "execution_count": null,
   "id": "7c70f627-31b3-4a65-a454-c42041ab0ddb",
   "metadata": {},
   "outputs": [],
   "source": [
    "3, deploy MLFlow model registory service which with UI and basic auth enabled\n",
    "kubectl apply -f mlflow-server.yaml"
   ]
  },
  {
   "cell_type": "code",
   "execution_count": null,
   "id": "bc6ef57c-0a39-4d2f-933e-17aea31483f9",
   "metadata": {},
   "outputs": [],
   "source": [
    "4, create nginx ingress for MLFlow service \n",
    "kubectl apply -f mlflowing.yaml"
   ]
  },
  {
   "cell_type": "code",
   "execution_count": null,
   "id": "47b062c2-643d-46b4-b3de-3894ce4aca38",
   "metadata": {},
   "outputs": [],
   "source": []
  }
 ],
 "metadata": {
  "kernelspec": {
   "display_name": "Python 3 (ipykernel)",
   "language": "python",
   "name": "python3"
  },
  "language_info": {
   "codemirror_mode": {
    "name": "ipython",
    "version": 3
   },
   "file_extension": ".py",
   "mimetype": "text/x-python",
   "name": "python",
   "nbconvert_exporter": "python",
   "pygments_lexer": "ipython3",
   "version": "3.9.13"
  }
 },
 "nbformat": 4,
 "nbformat_minor": 5
}
